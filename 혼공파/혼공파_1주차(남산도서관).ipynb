{
  "nbformat": 4,
  "nbformat_minor": 0,
  "metadata": {
    "colab": {
      "provenance": [],
      "authorship_tag": "ABX9TyNkoGd4WFDg1oT1DNcvZLkS",
      "include_colab_link": true
    },
    "kernelspec": {
      "name": "python3",
      "display_name": "Python 3"
    },
    "language_info": {
      "name": "python"
    }
  },
  "cells": [
    {
      "cell_type": "markdown",
      "metadata": {
        "id": "view-in-github",
        "colab_type": "text"
      },
      "source": [
        "<a href=\"https://colab.research.google.com/github/yoosoo13/yoosoo13/blob/main/%ED%98%BC%EA%B3%B5%ED%8C%8C/%ED%98%BC%EA%B3%B5%ED%8C%8C_1%EC%A3%BC%EC%B0%A8(%EB%82%A8%EC%82%B0%EB%8F%84%EC%84%9C%EA%B4%80).ipynb\" target=\"_parent\"><img src=\"https://colab.research.google.com/assets/colab-badge.svg\" alt=\"Open In Colab\"/></a>"
      ]
    },
    {
      "cell_type": "markdown",
      "source": [
        "## 2023년 6월 남산도서관 정서 대출목록 불러오기"
      ],
      "metadata": {
        "id": "R0tUqWIoOobR"
      }
    },
    {
      "cell_type": "code",
      "execution_count": null,
      "metadata": {
        "colab": {
          "base_uri": "https://localhost:8080/",
          "height": 109
        },
        "id": "gTiavDRtHvgz",
        "outputId": "70411ad4-8c13-4b36-b712-87321e9fab62"
      },
      "outputs": [
        {
          "output_type": "stream",
          "name": "stderr",
          "text": [
            "Downloading...\n",
            "From: https://drive.google.com/uc?id=1VXoX1XGLJ-3pMasIsY-IRBfrtAv0oNCq\n",
            "To: /content/남산도서관 장서 대출목록 (2023년 06월).csv\n",
            "100%|██████████| 61.9M/61.9M [00:00<00:00, 105MB/s]\n"
          ]
        },
        {
          "output_type": "execute_result",
          "data": {
            "text/plain": [
              "'남산도서관 장서 대출목록 (2023년 06월).csv'"
            ],
            "application/vnd.google.colaboratory.intrinsic+json": {
              "type": "string"
            }
          },
          "metadata": {},
          "execution_count": 1
        }
      ],
      "source": [
        "import gdown\n",
        "gdown.download('https://drive.google.com/uc?id=1VXoX1XGLJ-3pMasIsY-IRBfrtAv0oNCq',\n",
        "              '남산도서관 장서 대출목록 (2023년 06월).csv', quiet=False)"
      ]
    },
    {
      "cell_type": "code",
      "source": [
        "https://drive.google.com/uc?id=1-4OcgJ9F3ZVfBJGWi9Xe9GmocFDylp0M"
      ],
      "metadata": {
        "id": "g6bpaiyij08l"
      },
      "execution_count": null,
      "outputs": []
    },
    {
      "cell_type": "markdown",
      "source": [
        "## 파이썬으로 csv파일 출력하기"
      ],
      "metadata": {
        "id": "1dSyLvHjR58O"
      }
    },
    {
      "cell_type": "code",
      "source": [
        "with open('남산도서관 장서 대출목록 (2023년 06월).csv') as f:\n",
        "  print(f.readline())"
      ],
      "metadata": {
        "colab": {
          "base_uri": "https://localhost:8080/",
          "height": 321
        },
        "id": "xFx9_xFlR5lR",
        "outputId": "1f070362-bc86-4c5d-a84f-9a0b43a6f553"
      },
      "execution_count": null,
      "outputs": [
        {
          "output_type": "error",
          "ename": "UnicodeDecodeError",
          "evalue": "ignored",
          "traceback": [
            "\u001b[0;31m---------------------------------------------------------------------------\u001b[0m",
            "\u001b[0;31mUnicodeDecodeError\u001b[0m                        Traceback (most recent call last)",
            "\u001b[0;32m<ipython-input-2-93a3c39588eb>\u001b[0m in \u001b[0;36m<cell line: 1>\u001b[0;34m()\u001b[0m\n\u001b[1;32m      1\u001b[0m \u001b[0;32mwith\u001b[0m \u001b[0mopen\u001b[0m\u001b[0;34m(\u001b[0m\u001b[0;34m'남산도서관 장서 대출목록 (2023년 06월).csv'\u001b[0m\u001b[0;34m)\u001b[0m \u001b[0;32mas\u001b[0m \u001b[0mf\u001b[0m\u001b[0;34m:\u001b[0m\u001b[0;34m\u001b[0m\u001b[0;34m\u001b[0m\u001b[0m\n\u001b[0;32m----> 2\u001b[0;31m   \u001b[0mprint\u001b[0m\u001b[0;34m(\u001b[0m\u001b[0mf\u001b[0m\u001b[0;34m.\u001b[0m\u001b[0mreadline\u001b[0m\u001b[0;34m(\u001b[0m\u001b[0;34m)\u001b[0m\u001b[0;34m)\u001b[0m\u001b[0;34m\u001b[0m\u001b[0;34m\u001b[0m\u001b[0m\n\u001b[0m",
            "\u001b[0;32m/usr/lib/python3.10/codecs.py\u001b[0m in \u001b[0;36mdecode\u001b[0;34m(self, input, final)\u001b[0m\n\u001b[1;32m    320\u001b[0m         \u001b[0;31m# decode input (taking the buffer into account)\u001b[0m\u001b[0;34m\u001b[0m\u001b[0;34m\u001b[0m\u001b[0m\n\u001b[1;32m    321\u001b[0m         \u001b[0mdata\u001b[0m \u001b[0;34m=\u001b[0m \u001b[0mself\u001b[0m\u001b[0;34m.\u001b[0m\u001b[0mbuffer\u001b[0m \u001b[0;34m+\u001b[0m \u001b[0minput\u001b[0m\u001b[0;34m\u001b[0m\u001b[0;34m\u001b[0m\u001b[0m\n\u001b[0;32m--> 322\u001b[0;31m         \u001b[0;34m(\u001b[0m\u001b[0mresult\u001b[0m\u001b[0;34m,\u001b[0m \u001b[0mconsumed\u001b[0m\u001b[0;34m)\u001b[0m \u001b[0;34m=\u001b[0m \u001b[0mself\u001b[0m\u001b[0;34m.\u001b[0m\u001b[0m_buffer_decode\u001b[0m\u001b[0;34m(\u001b[0m\u001b[0mdata\u001b[0m\u001b[0;34m,\u001b[0m \u001b[0mself\u001b[0m\u001b[0;34m.\u001b[0m\u001b[0merrors\u001b[0m\u001b[0;34m,\u001b[0m \u001b[0mfinal\u001b[0m\u001b[0;34m)\u001b[0m\u001b[0;34m\u001b[0m\u001b[0;34m\u001b[0m\u001b[0m\n\u001b[0m\u001b[1;32m    323\u001b[0m         \u001b[0;31m# keep undecoded input until the next call\u001b[0m\u001b[0;34m\u001b[0m\u001b[0;34m\u001b[0m\u001b[0m\n\u001b[1;32m    324\u001b[0m         \u001b[0mself\u001b[0m\u001b[0;34m.\u001b[0m\u001b[0mbuffer\u001b[0m \u001b[0;34m=\u001b[0m \u001b[0mdata\u001b[0m\u001b[0;34m[\u001b[0m\u001b[0mconsumed\u001b[0m\u001b[0;34m:\u001b[0m\u001b[0;34m]\u001b[0m\u001b[0;34m\u001b[0m\u001b[0;34m\u001b[0m\u001b[0m\n",
            "\u001b[0;31mUnicodeDecodeError\u001b[0m: 'utf-8' codec can't decode byte 0xb9 in position 0: invalid start byte"
          ]
        }
      ]
    },
    {
      "cell_type": "markdown",
      "source": [
        "## 파일 인코딩 형식 확인\n",
        "- chardet.detect()함수사용"
      ],
      "metadata": {
        "id": "nJUJEc9-SKro"
      }
    },
    {
      "cell_type": "code",
      "source": [
        "# 파일 인코딩 형식 확인을 위해서 chardet패키지 불러오기\n",
        "import chardet\n",
        "\n",
        "# 파일 인코딩 형식 확인\n",
        "with open('남산도서관 장서 대출목록 (2023년 06월).csv', mode='rb') as f:\n",
        "      d = f.readline()\n",
        "print(chardet.detect(d))"
      ],
      "metadata": {
        "colab": {
          "base_uri": "https://localhost:8080/"
        },
        "id": "NGNNm5tSSQ-I",
        "outputId": "6e8cee5d-371b-41c4-acb9-b57136f5b5a0"
      },
      "execution_count": null,
      "outputs": [
        {
          "output_type": "stream",
          "name": "stdout",
          "text": [
            "{'encoding': 'EUC-KR', 'confidence': 0.99, 'language': 'Korean'}\n"
          ]
        }
      ]
    },
    {
      "cell_type": "markdown",
      "source": [
        "## 인코딩 형식 지정하기"
      ],
      "metadata": {
        "id": "h4fh3O3NTOsI"
      }
    },
    {
      "cell_type": "code",
      "source": [
        "# 처음 두 줄 출력\n",
        "# csv파일은 pandas로 읽는 것이 더 편리하나, 파일 크기에 따라 로딩시간이 길고 안 열릴수도 있다 > opne()함수, readline()메소드? 사용해서 처음 몇 줄 출력하는게 더 빠른 방법이기도 함\n",
        "with open('남산도서관 장서 대출목록 (2023년 06월).csv', encoding = 'EUC-KR') as f:\n",
        "  print(f.readline())  # 첫번째 줄 : 행(데이터 컬럼)\n",
        "  print(f.readline())  # 두번째 줄 : 데이터 컬럼에 대한 value"
      ],
      "metadata": {
        "colab": {
          "base_uri": "https://localhost:8080/"
        },
        "id": "e54QJfrRTQUA",
        "outputId": "f67cb686-69e8-4a14-fb29-566a7d6296aa"
      },
      "execution_count": null,
      "outputs": [
        {
          "output_type": "stream",
          "name": "stdout",
          "text": [
            "번호,도서명,저자,출판사,발행년도,ISBN,세트 ISBN,부가기호,권,주제분류번호,도서권수,대출건수,등록일자,\n",
            "\n",
            "\"1\",\"1분 요리 뚝딱이형\",\"뚝딱이형 (지은이)\",\"길벗\",\"2023\",\"9791140704668\",\"\",\"\",\"\",\"\",\"1\",\"0\",\"2023-06-30\",\n",
            "\n"
          ]
        }
      ]
    },
    {
      "cell_type": "markdown",
      "source": [
        "### pandas로 csv파일 읽기\n",
        "- csv파일을 한 줄씩 읽어서 데이터를 분석하기 어렵기 때문\n",
        "- read_csv() 함수 사용"
      ],
      "metadata": {
        "id": "CSrlWbWVUTZ_"
      }
    },
    {
      "cell_type": "code",
      "source": [
        "# pandas패키지 불러오기\n",
        "import pandas as pd\n",
        "\n",
        "# csv파일 불러오기\n",
        "df = pd.read_csv('남산도서관 장서 대출목록 (2023년 06월).csv', encoding = 'EUC-KR')"
      ],
      "metadata": {
        "colab": {
          "base_uri": "https://localhost:8080/"
        },
        "id": "CepJeeLFThzE",
        "outputId": "7d249152-0f2d-42c7-ba1c-070988107355"
      },
      "execution_count": null,
      "outputs": [
        {
          "output_type": "stream",
          "name": "stderr",
          "text": [
            "<ipython-input-5-387380f462b7>:5: DtypeWarning: Columns (5) have mixed types. Specify dtype option on import or set low_memory=False.\n",
            "  df = pd.read_csv('남산도서관 장서 대출목록 (2023년 06월).csv', encoding = 'EUC-KR')\n"
          ]
        }
      ]
    },
    {
      "cell_type": "markdown",
      "source": [
        "#### - 5,6,9열의 데이터 타입으로 인한 오류가 발생\n",
        "#### - **low_memory매개변수**를 **False**로 지정해서 파일을 나누어 읽지 않고 **한 번에 읽기**\n",
        "##### 메모리 문제로 low_memory매개변수를 사용하지 않을 경우, **dtype매개변수**를 사용하여 경고가 발생했던 5,6,9열에 해당하는 열의 데이터 타입을 지정해줄 수 있음"
      ],
      "metadata": {
        "id": "XcRIOJneVxa6"
      }
    },
    {
      "cell_type": "code",
      "source": [
        "# low_memory매개변수 사용\n",
        "df = pd.read_csv('남산도서관 장서 대출목록 (2023년 06월).csv', encoding = 'EUC-KR', low_memory = False)"
      ],
      "metadata": {
        "id": "eGFZOF1DVieT"
      },
      "execution_count": null,
      "outputs": []
    },
    {
      "cell_type": "markdown",
      "source": [
        "___"
      ],
      "metadata": {
        "id": "j4eXpb9OXGHQ"
      }
    },
    {
      "cell_type": "code",
      "source": [
        "# 데이터프레임 처음 다섯 개 행 확인\n",
        "df.head()"
      ],
      "metadata": {
        "colab": {
          "base_uri": "https://localhost:8080/",
          "height": 597
        },
        "id": "Gq0OLaZhWT66",
        "outputId": "d5e5e0f8-23db-4cce-f956-47ce2a49f604"
      },
      "execution_count": null,
      "outputs": [
        {
          "output_type": "execute_result",
          "data": {
            "text/plain": [
              "   번호                   도서명                                             저자  \\\n",
              "0   1            1분 요리 뚝딱이형                                     뚝딱이형 (지은이)   \n",
              "1   2       그럼에도 왜 사느냐 묻는다면                       미나미 지키사이 (지은이),백운숙 (옮긴이)   \n",
              "2   3         나는 오를 아파트가 좋다                                  이소라(나땅) (지은이)   \n",
              "3   4  투자 트렌드를 알면 100억이 보인다                                 김피비, 곽상빈 (지은이)   \n",
              "4   5         いきものづくし ものづくし  松岡達英,$e廣野?一,$e?野鴻,$e堀川理万子,$e角愼作,$e鈴木周作,$e小西英子   \n",
              "\n",
              "     출판사  발행년도           ISBN  세트 ISBN 부가기호    권 주제분류번호  도서권수  대출건수  \\\n",
              "0     길벗  2023  9791140704668      NaN  NaN  NaN    NaN     1     0   \n",
              "1    서사원  2023  9791168221741      NaN  NaN  NaN    NaN     1     0   \n",
              "2   베가북스  2023  9791192488349      NaN  NaN  NaN    NaN     1     0   \n",
              "3   마인드셋  2023  9791192579740      NaN  NaN  NaN    NaN     1     0   \n",
              "4  福音館書店  2021  9784834085198      NaN  NaN   12    408     1     0   \n",
              "\n",
              "         등록일자  Unnamed: 13  \n",
              "0  2023-06-30          NaN  \n",
              "1  2023-06-30          NaN  \n",
              "2  2023-06-30          NaN  \n",
              "3  2023-06-30          NaN  \n",
              "4  2023-06-30          NaN  "
            ],
            "text/html": [
              "\n",
              "  <div id=\"df-6d6310e2-4f06-4271-b52b-8b2d77a3da04\">\n",
              "    <div class=\"colab-df-container\">\n",
              "      <div>\n",
              "<style scoped>\n",
              "    .dataframe tbody tr th:only-of-type {\n",
              "        vertical-align: middle;\n",
              "    }\n",
              "\n",
              "    .dataframe tbody tr th {\n",
              "        vertical-align: top;\n",
              "    }\n",
              "\n",
              "    .dataframe thead th {\n",
              "        text-align: right;\n",
              "    }\n",
              "</style>\n",
              "<table border=\"1\" class=\"dataframe\">\n",
              "  <thead>\n",
              "    <tr style=\"text-align: right;\">\n",
              "      <th></th>\n",
              "      <th>번호</th>\n",
              "      <th>도서명</th>\n",
              "      <th>저자</th>\n",
              "      <th>출판사</th>\n",
              "      <th>발행년도</th>\n",
              "      <th>ISBN</th>\n",
              "      <th>세트 ISBN</th>\n",
              "      <th>부가기호</th>\n",
              "      <th>권</th>\n",
              "      <th>주제분류번호</th>\n",
              "      <th>도서권수</th>\n",
              "      <th>대출건수</th>\n",
              "      <th>등록일자</th>\n",
              "      <th>Unnamed: 13</th>\n",
              "    </tr>\n",
              "  </thead>\n",
              "  <tbody>\n",
              "    <tr>\n",
              "      <th>0</th>\n",
              "      <td>1</td>\n",
              "      <td>1분 요리 뚝딱이형</td>\n",
              "      <td>뚝딱이형 (지은이)</td>\n",
              "      <td>길벗</td>\n",
              "      <td>2023</td>\n",
              "      <td>9791140704668</td>\n",
              "      <td>NaN</td>\n",
              "      <td>NaN</td>\n",
              "      <td>NaN</td>\n",
              "      <td>NaN</td>\n",
              "      <td>1</td>\n",
              "      <td>0</td>\n",
              "      <td>2023-06-30</td>\n",
              "      <td>NaN</td>\n",
              "    </tr>\n",
              "    <tr>\n",
              "      <th>1</th>\n",
              "      <td>2</td>\n",
              "      <td>그럼에도 왜 사느냐 묻는다면</td>\n",
              "      <td>미나미 지키사이 (지은이),백운숙 (옮긴이)</td>\n",
              "      <td>서사원</td>\n",
              "      <td>2023</td>\n",
              "      <td>9791168221741</td>\n",
              "      <td>NaN</td>\n",
              "      <td>NaN</td>\n",
              "      <td>NaN</td>\n",
              "      <td>NaN</td>\n",
              "      <td>1</td>\n",
              "      <td>0</td>\n",
              "      <td>2023-06-30</td>\n",
              "      <td>NaN</td>\n",
              "    </tr>\n",
              "    <tr>\n",
              "      <th>2</th>\n",
              "      <td>3</td>\n",
              "      <td>나는 오를 아파트가 좋다</td>\n",
              "      <td>이소라(나땅) (지은이)</td>\n",
              "      <td>베가북스</td>\n",
              "      <td>2023</td>\n",
              "      <td>9791192488349</td>\n",
              "      <td>NaN</td>\n",
              "      <td>NaN</td>\n",
              "      <td>NaN</td>\n",
              "      <td>NaN</td>\n",
              "      <td>1</td>\n",
              "      <td>0</td>\n",
              "      <td>2023-06-30</td>\n",
              "      <td>NaN</td>\n",
              "    </tr>\n",
              "    <tr>\n",
              "      <th>3</th>\n",
              "      <td>4</td>\n",
              "      <td>투자 트렌드를 알면 100억이 보인다</td>\n",
              "      <td>김피비, 곽상빈 (지은이)</td>\n",
              "      <td>마인드셋</td>\n",
              "      <td>2023</td>\n",
              "      <td>9791192579740</td>\n",
              "      <td>NaN</td>\n",
              "      <td>NaN</td>\n",
              "      <td>NaN</td>\n",
              "      <td>NaN</td>\n",
              "      <td>1</td>\n",
              "      <td>0</td>\n",
              "      <td>2023-06-30</td>\n",
              "      <td>NaN</td>\n",
              "    </tr>\n",
              "    <tr>\n",
              "      <th>4</th>\n",
              "      <td>5</td>\n",
              "      <td>いきものづくし ものづくし</td>\n",
              "      <td>松岡達英,$e廣野?一,$e?野鴻,$e堀川理万子,$e角愼作,$e鈴木周作,$e小西英子</td>\n",
              "      <td>福音館書店</td>\n",
              "      <td>2021</td>\n",
              "      <td>9784834085198</td>\n",
              "      <td>NaN</td>\n",
              "      <td>NaN</td>\n",
              "      <td>12</td>\n",
              "      <td>408</td>\n",
              "      <td>1</td>\n",
              "      <td>0</td>\n",
              "      <td>2023-06-30</td>\n",
              "      <td>NaN</td>\n",
              "    </tr>\n",
              "  </tbody>\n",
              "</table>\n",
              "</div>\n",
              "      <button class=\"colab-df-convert\" onclick=\"convertToInteractive('df-6d6310e2-4f06-4271-b52b-8b2d77a3da04')\"\n",
              "              title=\"Convert this dataframe to an interactive table.\"\n",
              "              style=\"display:none;\">\n",
              "        \n",
              "  <svg xmlns=\"http://www.w3.org/2000/svg\" height=\"24px\"viewBox=\"0 0 24 24\"\n",
              "       width=\"24px\">\n",
              "    <path d=\"M0 0h24v24H0V0z\" fill=\"none\"/>\n",
              "    <path d=\"M18.56 5.44l.94 2.06.94-2.06 2.06-.94-2.06-.94-.94-2.06-.94 2.06-2.06.94zm-11 1L8.5 8.5l.94-2.06 2.06-.94-2.06-.94L8.5 2.5l-.94 2.06-2.06.94zm10 10l.94 2.06.94-2.06 2.06-.94-2.06-.94-.94-2.06-.94 2.06-2.06.94z\"/><path d=\"M17.41 7.96l-1.37-1.37c-.4-.4-.92-.59-1.43-.59-.52 0-1.04.2-1.43.59L10.3 9.45l-7.72 7.72c-.78.78-.78 2.05 0 2.83L4 21.41c.39.39.9.59 1.41.59.51 0 1.02-.2 1.41-.59l7.78-7.78 2.81-2.81c.8-.78.8-2.07 0-2.86zM5.41 20L4 18.59l7.72-7.72 1.47 1.35L5.41 20z\"/>\n",
              "  </svg>\n",
              "      </button>\n",
              "      \n",
              "  <style>\n",
              "    .colab-df-container {\n",
              "      display:flex;\n",
              "      flex-wrap:wrap;\n",
              "      gap: 12px;\n",
              "    }\n",
              "\n",
              "    .colab-df-convert {\n",
              "      background-color: #E8F0FE;\n",
              "      border: none;\n",
              "      border-radius: 50%;\n",
              "      cursor: pointer;\n",
              "      display: none;\n",
              "      fill: #1967D2;\n",
              "      height: 32px;\n",
              "      padding: 0 0 0 0;\n",
              "      width: 32px;\n",
              "    }\n",
              "\n",
              "    .colab-df-convert:hover {\n",
              "      background-color: #E2EBFA;\n",
              "      box-shadow: 0px 1px 2px rgba(60, 64, 67, 0.3), 0px 1px 3px 1px rgba(60, 64, 67, 0.15);\n",
              "      fill: #174EA6;\n",
              "    }\n",
              "\n",
              "    [theme=dark] .colab-df-convert {\n",
              "      background-color: #3B4455;\n",
              "      fill: #D2E3FC;\n",
              "    }\n",
              "\n",
              "    [theme=dark] .colab-df-convert:hover {\n",
              "      background-color: #434B5C;\n",
              "      box-shadow: 0px 1px 3px 1px rgba(0, 0, 0, 0.15);\n",
              "      filter: drop-shadow(0px 1px 2px rgba(0, 0, 0, 0.3));\n",
              "      fill: #FFFFFF;\n",
              "    }\n",
              "  </style>\n",
              "\n",
              "      <script>\n",
              "        const buttonEl =\n",
              "          document.querySelector('#df-6d6310e2-4f06-4271-b52b-8b2d77a3da04 button.colab-df-convert');\n",
              "        buttonEl.style.display =\n",
              "          google.colab.kernel.accessAllowed ? 'block' : 'none';\n",
              "\n",
              "        async function convertToInteractive(key) {\n",
              "          const element = document.querySelector('#df-6d6310e2-4f06-4271-b52b-8b2d77a3da04');\n",
              "          const dataTable =\n",
              "            await google.colab.kernel.invokeFunction('convertToInteractive',\n",
              "                                                     [key], {});\n",
              "          if (!dataTable) return;\n",
              "\n",
              "          const docLinkHtml = 'Like what you see? Visit the ' +\n",
              "            '<a target=\"_blank\" href=https://colab.research.google.com/notebooks/data_table.ipynb>data table notebook</a>'\n",
              "            + ' to learn more about interactive tables.';\n",
              "          element.innerHTML = '';\n",
              "          dataTable['output_type'] = 'display_data';\n",
              "          await google.colab.output.renderOutput(dataTable, element);\n",
              "          const docLink = document.createElement('div');\n",
              "          docLink.innerHTML = docLinkHtml;\n",
              "          element.appendChild(docLink);\n",
              "        }\n",
              "      </script>\n",
              "    </div>\n",
              "  </div>\n",
              "  "
            ]
          },
          "metadata": {},
          "execution_count": 7
        }
      ]
    },
    {
      "cell_type": "markdown",
      "source": [
        "### 데이터프레임을 csv파일로 저장하기\n",
        "- **to_csv()메서드** 사용\n",
        "  - to_csv()메서드는 기본적으로 UTF-8형식으로 저장됨(나중에 open()함수로 파일 읽을 때 따로 encoding매개변수 사용안해도 됨)"
      ],
      "metadata": {
        "id": "5-kSKdRRbrIc"
      }
    },
    {
      "cell_type": "code",
      "source": [
        "df.to_csv('ns_202306.csv')"
      ],
      "metadata": {
        "id": "yJFXDjXnXPja"
      },
      "execution_count": null,
      "outputs": []
    },
    {
      "cell_type": "code",
      "source": [
        "# 저장한 csv파일 open()함수로 확인\n",
        "# readline()메서드를 3번 적는 대신 for문 3번 반복\n",
        "\n",
        "with open('ns_202306.csv') as f:\n",
        "  for i in range(3):\n",
        "    print(f.readline(), end = '')"
      ],
      "metadata": {
        "colab": {
          "base_uri": "https://localhost:8080/"
        },
        "id": "c_WGxlNtd2Wr",
        "outputId": "ec759f6e-cde7-42d4-f00e-f1efe344880f"
      },
      "execution_count": null,
      "outputs": [
        {
          "output_type": "stream",
          "name": "stdout",
          "text": [
            ",번호,도서명,저자,출판사,발행년도,ISBN,세트 ISBN,부가기호,권,주제분류번호,도서권수,대출건수,등록일자,Unnamed: 13\n",
            "0,1,1분 요리 뚝딱이형,뚝딱이형 (지은이),길벗,2023,9791140704668,,,,,1,0,2023-06-30,\n",
            "1,2,그럼에도 왜 사느냐 묻는다면,\"미나미 지키사이 (지은이),백운숙 (옮긴이)\",서사원,2023,9791168221741,,,,,1,0,2023-06-30,\n"
          ]
        }
      ]
    },
    {
      "cell_type": "code",
      "source": [
        "# 저장한 csv파일을 데이터프레임으로 읽기\n",
        "ns_df = pd.read_csv('ns_202306.csv', low_memory=False)\n",
        "ns_df.head()"
      ],
      "metadata": {
        "colab": {
          "base_uri": "https://localhost:8080/",
          "height": 771
        },
        "id": "oSDBHV7VeLlT",
        "outputId": "ff708519-5a76-4522-f8a2-2a5ae364ba21"
      },
      "execution_count": null,
      "outputs": [
        {
          "output_type": "execute_result",
          "data": {
            "text/plain": [
              "   Unnamed: 0  번호                   도서명  \\\n",
              "0           0   1            1분 요리 뚝딱이형   \n",
              "1           1   2       그럼에도 왜 사느냐 묻는다면   \n",
              "2           2   3         나는 오를 아파트가 좋다   \n",
              "3           3   4  투자 트렌드를 알면 100억이 보인다   \n",
              "4           4   5         いきものづくし ものづくし   \n",
              "\n",
              "                                              저자    출판사  발행년도           ISBN  \\\n",
              "0                                     뚝딱이형 (지은이)     길벗  2023  9791140704668   \n",
              "1                       미나미 지키사이 (지은이),백운숙 (옮긴이)    서사원  2023  9791168221741   \n",
              "2                                  이소라(나땅) (지은이)   베가북스  2023  9791192488349   \n",
              "3                                 김피비, 곽상빈 (지은이)   마인드셋  2023  9791192579740   \n",
              "4  松岡達英,$e廣野?一,$e?野鴻,$e堀川理万子,$e角愼作,$e鈴木周作,$e小西英子  福音館書店  2021  9784834085198   \n",
              "\n",
              "   세트 ISBN 부가기호    권 주제분류번호  도서권수  대출건수        등록일자  Unnamed: 13  \n",
              "0      NaN  NaN  NaN    NaN     1     0  2023-06-30          NaN  \n",
              "1      NaN  NaN  NaN    NaN     1     0  2023-06-30          NaN  \n",
              "2      NaN  NaN  NaN    NaN     1     0  2023-06-30          NaN  \n",
              "3      NaN  NaN  NaN    NaN     1     0  2023-06-30          NaN  \n",
              "4      NaN  NaN   12    408     1     0  2023-06-30          NaN  "
            ],
            "text/html": [
              "\n",
              "  <div id=\"df-9f8d0c3f-6de6-460f-8168-a01a58b73ad2\">\n",
              "    <div class=\"colab-df-container\">\n",
              "      <div>\n",
              "<style scoped>\n",
              "    .dataframe tbody tr th:only-of-type {\n",
              "        vertical-align: middle;\n",
              "    }\n",
              "\n",
              "    .dataframe tbody tr th {\n",
              "        vertical-align: top;\n",
              "    }\n",
              "\n",
              "    .dataframe thead th {\n",
              "        text-align: right;\n",
              "    }\n",
              "</style>\n",
              "<table border=\"1\" class=\"dataframe\">\n",
              "  <thead>\n",
              "    <tr style=\"text-align: right;\">\n",
              "      <th></th>\n",
              "      <th>Unnamed: 0</th>\n",
              "      <th>번호</th>\n",
              "      <th>도서명</th>\n",
              "      <th>저자</th>\n",
              "      <th>출판사</th>\n",
              "      <th>발행년도</th>\n",
              "      <th>ISBN</th>\n",
              "      <th>세트 ISBN</th>\n",
              "      <th>부가기호</th>\n",
              "      <th>권</th>\n",
              "      <th>주제분류번호</th>\n",
              "      <th>도서권수</th>\n",
              "      <th>대출건수</th>\n",
              "      <th>등록일자</th>\n",
              "      <th>Unnamed: 13</th>\n",
              "    </tr>\n",
              "  </thead>\n",
              "  <tbody>\n",
              "    <tr>\n",
              "      <th>0</th>\n",
              "      <td>0</td>\n",
              "      <td>1</td>\n",
              "      <td>1분 요리 뚝딱이형</td>\n",
              "      <td>뚝딱이형 (지은이)</td>\n",
              "      <td>길벗</td>\n",
              "      <td>2023</td>\n",
              "      <td>9791140704668</td>\n",
              "      <td>NaN</td>\n",
              "      <td>NaN</td>\n",
              "      <td>NaN</td>\n",
              "      <td>NaN</td>\n",
              "      <td>1</td>\n",
              "      <td>0</td>\n",
              "      <td>2023-06-30</td>\n",
              "      <td>NaN</td>\n",
              "    </tr>\n",
              "    <tr>\n",
              "      <th>1</th>\n",
              "      <td>1</td>\n",
              "      <td>2</td>\n",
              "      <td>그럼에도 왜 사느냐 묻는다면</td>\n",
              "      <td>미나미 지키사이 (지은이),백운숙 (옮긴이)</td>\n",
              "      <td>서사원</td>\n",
              "      <td>2023</td>\n",
              "      <td>9791168221741</td>\n",
              "      <td>NaN</td>\n",
              "      <td>NaN</td>\n",
              "      <td>NaN</td>\n",
              "      <td>NaN</td>\n",
              "      <td>1</td>\n",
              "      <td>0</td>\n",
              "      <td>2023-06-30</td>\n",
              "      <td>NaN</td>\n",
              "    </tr>\n",
              "    <tr>\n",
              "      <th>2</th>\n",
              "      <td>2</td>\n",
              "      <td>3</td>\n",
              "      <td>나는 오를 아파트가 좋다</td>\n",
              "      <td>이소라(나땅) (지은이)</td>\n",
              "      <td>베가북스</td>\n",
              "      <td>2023</td>\n",
              "      <td>9791192488349</td>\n",
              "      <td>NaN</td>\n",
              "      <td>NaN</td>\n",
              "      <td>NaN</td>\n",
              "      <td>NaN</td>\n",
              "      <td>1</td>\n",
              "      <td>0</td>\n",
              "      <td>2023-06-30</td>\n",
              "      <td>NaN</td>\n",
              "    </tr>\n",
              "    <tr>\n",
              "      <th>3</th>\n",
              "      <td>3</td>\n",
              "      <td>4</td>\n",
              "      <td>투자 트렌드를 알면 100억이 보인다</td>\n",
              "      <td>김피비, 곽상빈 (지은이)</td>\n",
              "      <td>마인드셋</td>\n",
              "      <td>2023</td>\n",
              "      <td>9791192579740</td>\n",
              "      <td>NaN</td>\n",
              "      <td>NaN</td>\n",
              "      <td>NaN</td>\n",
              "      <td>NaN</td>\n",
              "      <td>1</td>\n",
              "      <td>0</td>\n",
              "      <td>2023-06-30</td>\n",
              "      <td>NaN</td>\n",
              "    </tr>\n",
              "    <tr>\n",
              "      <th>4</th>\n",
              "      <td>4</td>\n",
              "      <td>5</td>\n",
              "      <td>いきものづくし ものづくし</td>\n",
              "      <td>松岡達英,$e廣野?一,$e?野鴻,$e堀川理万子,$e角愼作,$e鈴木周作,$e小西英子</td>\n",
              "      <td>福音館書店</td>\n",
              "      <td>2021</td>\n",
              "      <td>9784834085198</td>\n",
              "      <td>NaN</td>\n",
              "      <td>NaN</td>\n",
              "      <td>12</td>\n",
              "      <td>408</td>\n",
              "      <td>1</td>\n",
              "      <td>0</td>\n",
              "      <td>2023-06-30</td>\n",
              "      <td>NaN</td>\n",
              "    </tr>\n",
              "  </tbody>\n",
              "</table>\n",
              "</div>\n",
              "      <button class=\"colab-df-convert\" onclick=\"convertToInteractive('df-9f8d0c3f-6de6-460f-8168-a01a58b73ad2')\"\n",
              "              title=\"Convert this dataframe to an interactive table.\"\n",
              "              style=\"display:none;\">\n",
              "        \n",
              "  <svg xmlns=\"http://www.w3.org/2000/svg\" height=\"24px\"viewBox=\"0 0 24 24\"\n",
              "       width=\"24px\">\n",
              "    <path d=\"M0 0h24v24H0V0z\" fill=\"none\"/>\n",
              "    <path d=\"M18.56 5.44l.94 2.06.94-2.06 2.06-.94-2.06-.94-.94-2.06-.94 2.06-2.06.94zm-11 1L8.5 8.5l.94-2.06 2.06-.94-2.06-.94L8.5 2.5l-.94 2.06-2.06.94zm10 10l.94 2.06.94-2.06 2.06-.94-2.06-.94-.94-2.06-.94 2.06-2.06.94z\"/><path d=\"M17.41 7.96l-1.37-1.37c-.4-.4-.92-.59-1.43-.59-.52 0-1.04.2-1.43.59L10.3 9.45l-7.72 7.72c-.78.78-.78 2.05 0 2.83L4 21.41c.39.39.9.59 1.41.59.51 0 1.02-.2 1.41-.59l7.78-7.78 2.81-2.81c.8-.78.8-2.07 0-2.86zM5.41 20L4 18.59l7.72-7.72 1.47 1.35L5.41 20z\"/>\n",
              "  </svg>\n",
              "      </button>\n",
              "      \n",
              "  <style>\n",
              "    .colab-df-container {\n",
              "      display:flex;\n",
              "      flex-wrap:wrap;\n",
              "      gap: 12px;\n",
              "    }\n",
              "\n",
              "    .colab-df-convert {\n",
              "      background-color: #E8F0FE;\n",
              "      border: none;\n",
              "      border-radius: 50%;\n",
              "      cursor: pointer;\n",
              "      display: none;\n",
              "      fill: #1967D2;\n",
              "      height: 32px;\n",
              "      padding: 0 0 0 0;\n",
              "      width: 32px;\n",
              "    }\n",
              "\n",
              "    .colab-df-convert:hover {\n",
              "      background-color: #E2EBFA;\n",
              "      box-shadow: 0px 1px 2px rgba(60, 64, 67, 0.3), 0px 1px 3px 1px rgba(60, 64, 67, 0.15);\n",
              "      fill: #174EA6;\n",
              "    }\n",
              "\n",
              "    [theme=dark] .colab-df-convert {\n",
              "      background-color: #3B4455;\n",
              "      fill: #D2E3FC;\n",
              "    }\n",
              "\n",
              "    [theme=dark] .colab-df-convert:hover {\n",
              "      background-color: #434B5C;\n",
              "      box-shadow: 0px 1px 3px 1px rgba(0, 0, 0, 0.15);\n",
              "      filter: drop-shadow(0px 1px 2px rgba(0, 0, 0, 0.3));\n",
              "      fill: #FFFFFF;\n",
              "    }\n",
              "  </style>\n",
              "\n",
              "      <script>\n",
              "        const buttonEl =\n",
              "          document.querySelector('#df-9f8d0c3f-6de6-460f-8168-a01a58b73ad2 button.colab-df-convert');\n",
              "        buttonEl.style.display =\n",
              "          google.colab.kernel.accessAllowed ? 'block' : 'none';\n",
              "\n",
              "        async function convertToInteractive(key) {\n",
              "          const element = document.querySelector('#df-9f8d0c3f-6de6-460f-8168-a01a58b73ad2');\n",
              "          const dataTable =\n",
              "            await google.colab.kernel.invokeFunction('convertToInteractive',\n",
              "                                                     [key], {});\n",
              "          if (!dataTable) return;\n",
              "\n",
              "          const docLinkHtml = 'Like what you see? Visit the ' +\n",
              "            '<a target=\"_blank\" href=https://colab.research.google.com/notebooks/data_table.ipynb>data table notebook</a>'\n",
              "            + ' to learn more about interactive tables.';\n",
              "          element.innerHTML = '';\n",
              "          dataTable['output_type'] = 'display_data';\n",
              "          await google.colab.output.renderOutput(dataTable, element);\n",
              "          const docLink = document.createElement('div');\n",
              "          docLink.innerHTML = docLinkHtml;\n",
              "          element.appendChild(docLink);\n",
              "        }\n",
              "      </script>\n",
              "    </div>\n",
              "  </div>\n",
              "  "
            ]
          },
          "metadata": {},
          "execution_count": 10
        }
      ]
    },
    {
      "cell_type": "markdown",
      "source": [
        "### 인덱스가 다시 생성되면서 Unnamed:0'이라는 첫번째 열과 중복됨\n",
        "### csv파일에 인덱스가 존재한다는 것을 알려주기 위해, **index_col 매개변수**사용\n",
        "- ns_202306.csv파일에는 첫 번째 열에 인덱스가 있으므로 0으로 지정함\n",
        "- 애초에 데이터프레임을 csv파일로 저장할 때 인덱스를 빼고 저장할 수도 있음\n",
        "  - df.to_csv('ns_202306.csv', index= False)"
      ],
      "metadata": {
        "id": "rLvwxWLfed3A"
      }
    },
    {
      "cell_type": "code",
      "source": [
        "# index_col매개변수 사용\n",
        "ns_df = pd.read_csv('ns_202306.csv', index_col = 0, low_memory = False)\n",
        "ns_df.head()"
      ],
      "metadata": {
        "colab": {
          "base_uri": "https://localhost:8080/",
          "height": 597
        },
        "id": "Vf9sY3h7eYkC",
        "outputId": "ccf74484-60c1-4509-a67d-afef41f37fe4"
      },
      "execution_count": null,
      "outputs": [
        {
          "output_type": "execute_result",
          "data": {
            "text/plain": [
              "   번호                   도서명                                             저자  \\\n",
              "0   1            1분 요리 뚝딱이형                                     뚝딱이형 (지은이)   \n",
              "1   2       그럼에도 왜 사느냐 묻는다면                       미나미 지키사이 (지은이),백운숙 (옮긴이)   \n",
              "2   3         나는 오를 아파트가 좋다                                  이소라(나땅) (지은이)   \n",
              "3   4  투자 트렌드를 알면 100억이 보인다                                 김피비, 곽상빈 (지은이)   \n",
              "4   5         いきものづくし ものづくし  松岡達英,$e廣野?一,$e?野鴻,$e堀川理万子,$e角愼作,$e鈴木周作,$e小西英子   \n",
              "\n",
              "     출판사  발행년도           ISBN  세트 ISBN 부가기호    권 주제분류번호  도서권수  대출건수  \\\n",
              "0     길벗  2023  9791140704668      NaN  NaN  NaN    NaN     1     0   \n",
              "1    서사원  2023  9791168221741      NaN  NaN  NaN    NaN     1     0   \n",
              "2   베가북스  2023  9791192488349      NaN  NaN  NaN    NaN     1     0   \n",
              "3   마인드셋  2023  9791192579740      NaN  NaN  NaN    NaN     1     0   \n",
              "4  福音館書店  2021  9784834085198      NaN  NaN   12    408     1     0   \n",
              "\n",
              "         등록일자  Unnamed: 13  \n",
              "0  2023-06-30          NaN  \n",
              "1  2023-06-30          NaN  \n",
              "2  2023-06-30          NaN  \n",
              "3  2023-06-30          NaN  \n",
              "4  2023-06-30          NaN  "
            ],
            "text/html": [
              "\n",
              "  <div id=\"df-3467d218-cd62-4621-b191-07ff8247b567\">\n",
              "    <div class=\"colab-df-container\">\n",
              "      <div>\n",
              "<style scoped>\n",
              "    .dataframe tbody tr th:only-of-type {\n",
              "        vertical-align: middle;\n",
              "    }\n",
              "\n",
              "    .dataframe tbody tr th {\n",
              "        vertical-align: top;\n",
              "    }\n",
              "\n",
              "    .dataframe thead th {\n",
              "        text-align: right;\n",
              "    }\n",
              "</style>\n",
              "<table border=\"1\" class=\"dataframe\">\n",
              "  <thead>\n",
              "    <tr style=\"text-align: right;\">\n",
              "      <th></th>\n",
              "      <th>번호</th>\n",
              "      <th>도서명</th>\n",
              "      <th>저자</th>\n",
              "      <th>출판사</th>\n",
              "      <th>발행년도</th>\n",
              "      <th>ISBN</th>\n",
              "      <th>세트 ISBN</th>\n",
              "      <th>부가기호</th>\n",
              "      <th>권</th>\n",
              "      <th>주제분류번호</th>\n",
              "      <th>도서권수</th>\n",
              "      <th>대출건수</th>\n",
              "      <th>등록일자</th>\n",
              "      <th>Unnamed: 13</th>\n",
              "    </tr>\n",
              "  </thead>\n",
              "  <tbody>\n",
              "    <tr>\n",
              "      <th>0</th>\n",
              "      <td>1</td>\n",
              "      <td>1분 요리 뚝딱이형</td>\n",
              "      <td>뚝딱이형 (지은이)</td>\n",
              "      <td>길벗</td>\n",
              "      <td>2023</td>\n",
              "      <td>9791140704668</td>\n",
              "      <td>NaN</td>\n",
              "      <td>NaN</td>\n",
              "      <td>NaN</td>\n",
              "      <td>NaN</td>\n",
              "      <td>1</td>\n",
              "      <td>0</td>\n",
              "      <td>2023-06-30</td>\n",
              "      <td>NaN</td>\n",
              "    </tr>\n",
              "    <tr>\n",
              "      <th>1</th>\n",
              "      <td>2</td>\n",
              "      <td>그럼에도 왜 사느냐 묻는다면</td>\n",
              "      <td>미나미 지키사이 (지은이),백운숙 (옮긴이)</td>\n",
              "      <td>서사원</td>\n",
              "      <td>2023</td>\n",
              "      <td>9791168221741</td>\n",
              "      <td>NaN</td>\n",
              "      <td>NaN</td>\n",
              "      <td>NaN</td>\n",
              "      <td>NaN</td>\n",
              "      <td>1</td>\n",
              "      <td>0</td>\n",
              "      <td>2023-06-30</td>\n",
              "      <td>NaN</td>\n",
              "    </tr>\n",
              "    <tr>\n",
              "      <th>2</th>\n",
              "      <td>3</td>\n",
              "      <td>나는 오를 아파트가 좋다</td>\n",
              "      <td>이소라(나땅) (지은이)</td>\n",
              "      <td>베가북스</td>\n",
              "      <td>2023</td>\n",
              "      <td>9791192488349</td>\n",
              "      <td>NaN</td>\n",
              "      <td>NaN</td>\n",
              "      <td>NaN</td>\n",
              "      <td>NaN</td>\n",
              "      <td>1</td>\n",
              "      <td>0</td>\n",
              "      <td>2023-06-30</td>\n",
              "      <td>NaN</td>\n",
              "    </tr>\n",
              "    <tr>\n",
              "      <th>3</th>\n",
              "      <td>4</td>\n",
              "      <td>투자 트렌드를 알면 100억이 보인다</td>\n",
              "      <td>김피비, 곽상빈 (지은이)</td>\n",
              "      <td>마인드셋</td>\n",
              "      <td>2023</td>\n",
              "      <td>9791192579740</td>\n",
              "      <td>NaN</td>\n",
              "      <td>NaN</td>\n",
              "      <td>NaN</td>\n",
              "      <td>NaN</td>\n",
              "      <td>1</td>\n",
              "      <td>0</td>\n",
              "      <td>2023-06-30</td>\n",
              "      <td>NaN</td>\n",
              "    </tr>\n",
              "    <tr>\n",
              "      <th>4</th>\n",
              "      <td>5</td>\n",
              "      <td>いきものづくし ものづくし</td>\n",
              "      <td>松岡達英,$e廣野?一,$e?野鴻,$e堀川理万子,$e角愼作,$e鈴木周作,$e小西英子</td>\n",
              "      <td>福音館書店</td>\n",
              "      <td>2021</td>\n",
              "      <td>9784834085198</td>\n",
              "      <td>NaN</td>\n",
              "      <td>NaN</td>\n",
              "      <td>12</td>\n",
              "      <td>408</td>\n",
              "      <td>1</td>\n",
              "      <td>0</td>\n",
              "      <td>2023-06-30</td>\n",
              "      <td>NaN</td>\n",
              "    </tr>\n",
              "  </tbody>\n",
              "</table>\n",
              "</div>\n",
              "      <button class=\"colab-df-convert\" onclick=\"convertToInteractive('df-3467d218-cd62-4621-b191-07ff8247b567')\"\n",
              "              title=\"Convert this dataframe to an interactive table.\"\n",
              "              style=\"display:none;\">\n",
              "        \n",
              "  <svg xmlns=\"http://www.w3.org/2000/svg\" height=\"24px\"viewBox=\"0 0 24 24\"\n",
              "       width=\"24px\">\n",
              "    <path d=\"M0 0h24v24H0V0z\" fill=\"none\"/>\n",
              "    <path d=\"M18.56 5.44l.94 2.06.94-2.06 2.06-.94-2.06-.94-.94-2.06-.94 2.06-2.06.94zm-11 1L8.5 8.5l.94-2.06 2.06-.94-2.06-.94L8.5 2.5l-.94 2.06-2.06.94zm10 10l.94 2.06.94-2.06 2.06-.94-2.06-.94-.94-2.06-.94 2.06-2.06.94z\"/><path d=\"M17.41 7.96l-1.37-1.37c-.4-.4-.92-.59-1.43-.59-.52 0-1.04.2-1.43.59L10.3 9.45l-7.72 7.72c-.78.78-.78 2.05 0 2.83L4 21.41c.39.39.9.59 1.41.59.51 0 1.02-.2 1.41-.59l7.78-7.78 2.81-2.81c.8-.78.8-2.07 0-2.86zM5.41 20L4 18.59l7.72-7.72 1.47 1.35L5.41 20z\"/>\n",
              "  </svg>\n",
              "      </button>\n",
              "      \n",
              "  <style>\n",
              "    .colab-df-container {\n",
              "      display:flex;\n",
              "      flex-wrap:wrap;\n",
              "      gap: 12px;\n",
              "    }\n",
              "\n",
              "    .colab-df-convert {\n",
              "      background-color: #E8F0FE;\n",
              "      border: none;\n",
              "      border-radius: 50%;\n",
              "      cursor: pointer;\n",
              "      display: none;\n",
              "      fill: #1967D2;\n",
              "      height: 32px;\n",
              "      padding: 0 0 0 0;\n",
              "      width: 32px;\n",
              "    }\n",
              "\n",
              "    .colab-df-convert:hover {\n",
              "      background-color: #E2EBFA;\n",
              "      box-shadow: 0px 1px 2px rgba(60, 64, 67, 0.3), 0px 1px 3px 1px rgba(60, 64, 67, 0.15);\n",
              "      fill: #174EA6;\n",
              "    }\n",
              "\n",
              "    [theme=dark] .colab-df-convert {\n",
              "      background-color: #3B4455;\n",
              "      fill: #D2E3FC;\n",
              "    }\n",
              "\n",
              "    [theme=dark] .colab-df-convert:hover {\n",
              "      background-color: #434B5C;\n",
              "      box-shadow: 0px 1px 3px 1px rgba(0, 0, 0, 0.15);\n",
              "      filter: drop-shadow(0px 1px 2px rgba(0, 0, 0, 0.3));\n",
              "      fill: #FFFFFF;\n",
              "    }\n",
              "  </style>\n",
              "\n",
              "      <script>\n",
              "        const buttonEl =\n",
              "          document.querySelector('#df-3467d218-cd62-4621-b191-07ff8247b567 button.colab-df-convert');\n",
              "        buttonEl.style.display =\n",
              "          google.colab.kernel.accessAllowed ? 'block' : 'none';\n",
              "\n",
              "        async function convertToInteractive(key) {\n",
              "          const element = document.querySelector('#df-3467d218-cd62-4621-b191-07ff8247b567');\n",
              "          const dataTable =\n",
              "            await google.colab.kernel.invokeFunction('convertToInteractive',\n",
              "                                                     [key], {});\n",
              "          if (!dataTable) return;\n",
              "\n",
              "          const docLinkHtml = 'Like what you see? Visit the ' +\n",
              "            '<a target=\"_blank\" href=https://colab.research.google.com/notebooks/data_table.ipynb>data table notebook</a>'\n",
              "            + ' to learn more about interactive tables.';\n",
              "          element.innerHTML = '';\n",
              "          dataTable['output_type'] = 'display_data';\n",
              "          await google.colab.output.renderOutput(dataTable, element);\n",
              "          const docLink = document.createElement('div');\n",
              "          docLink.innerHTML = docLinkHtml;\n",
              "          element.appendChild(docLink);\n",
              "        }\n",
              "      </script>\n",
              "    </div>\n",
              "  </div>\n",
              "  "
            ]
          },
          "metadata": {},
          "execution_count": 12
        }
      ]
    }
  ]
}